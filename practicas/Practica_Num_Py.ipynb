{
  "nbformat": 4,
  "nbformat_minor": 0,
  "metadata": {
    "kernelspec": {
      "display_name": "Python 3",
      "language": "python",
      "name": "python3"
    },
    "language_info": {
      "codemirror_mode": {
        "name": "ipython",
        "version": 3
      },
      "file_extension": ".py",
      "mimetype": "text/x-python",
      "name": "python",
      "nbconvert_exporter": "python",
      "pygments_lexer": "ipython3",
      "version": "3.7.6"
    },
    "colab": {
      "name": "Practica_Num_Py.ipynb",
      "provenance": [],
      "collapsed_sections": [],
      "include_colab_link": true
    }
  },
  "cells": [
    {
      "cell_type": "markdown",
      "metadata": {
        "id": "view-in-github",
        "colab_type": "text"
      },
      "source": [
        "<a href=\"https://colab.research.google.com/github/fax117/machine_learning_practices/blob/main/practicas/Practica_Num_Py.ipynb\" target=\"_parent\"><img src=\"https://colab.research.google.com/assets/colab-badge.svg\" alt=\"Open In Colab\"/></a>"
      ]
    },
    {
      "cell_type": "markdown",
      "metadata": {
        "id": "HiAMmr0HXyu5"
      },
      "source": [
        "[![Open In Colab](https://colab.research.google.com/assets/colab-badge.svg)](https://colab.research.google.com/github/MauricioRR-Tec/AprendizajeAutomatico/blob/master/Tema_1_Introduccion/practices/Practica_Num_Py.ipynb)"
      ]
    },
    {
      "cell_type": "markdown",
      "metadata": {
        "id": "GtyQfsCMXyu8"
      },
      "source": [
        "# Practica - MNist con NumPy\n",
        "---\n",
        "## Usando Numpy con MNist\n",
        "\n",
        "MNist es un popular conjunto de datos que contiene imágenes de dígitos del 0-9 escritos a mano. Las imágenes en el conjunto están compuestas por 28x28 pixeles, cada pixel representa un tono en una escala de grises siendo 0 el valor más luminoso y 255 el valor más oscuro.\n",
        "\n",
        "Unos ejemplos de las imágenes en MNist:\n",
        "\n",
        "![alt text](https://upload.wikimedia.org/wikipedia/commons/2/27/MnistExamples.png)"
      ]
    },
    {
      "cell_type": "markdown",
      "metadata": {
        "id": "yrc-wV3XXyu-"
      },
      "source": [
        "Ejecuta la siguiente celda para importar las librerías utilizadas durante la notebook.\n"
      ]
    },
    {
      "cell_type": "code",
      "metadata": {
        "id": "AmNWXYQ-Xyu_"
      },
      "source": [
        "import numpy as np\n",
        "from matplotlib import pyplot as plt  "
      ],
      "execution_count": null,
      "outputs": []
    },
    {
      "cell_type": "markdown",
      "metadata": {
        "id": "c1eyLnEaXyvA"
      },
      "source": [
        "Una función auxiliar ```display_example``` para visualizar ejemplos en el conjunto de datos MNist.\n",
        "\n",
        "*Nota: No olvides ejecutar la celda*"
      ]
    },
    {
      "cell_type": "markdown",
      "metadata": {
        "id": "uJRMVCA5XyvC"
      },
      "source": [
        "**¿Puedes explicar que es lo que hace x = x[None]?**"
      ]
    },
    {
      "cell_type": "markdown",
      "metadata": {
        "id": "ACFqUnxrZsa9"
      },
      "source": [
        ""
      ]
    },
    {
      "cell_type": "code",
      "metadata": {
        "id": "xo0fjPRnXyvG"
      },
      "source": [
        "def display_example(x, example_width=None):\n",
        "    \"\"\"Muestra un ejemplo en forma 1D como una imagen\"\"\"\n",
        "    # Compute rows, cols\n",
        "    if x.ndim == 1:\n",
        "        n = x.size\n",
        "        m = 1\n",
        "        x = x[None]  # Promote to a 2 dimensional array \n",
        "    else:\n",
        "        raise IndexError('Input x should be 1 dimensional.')\n",
        "\n",
        "    example_width = example_width or int(np.round(np.sqrt(n)))\n",
        "    example_height = n // example_width\n",
        "\n",
        "    plt.imshow(x[0].reshape(example_height, example_width),\n",
        "                        cmap='Greys', extent=[0, 1, 0, 1])\n",
        "    plt.show()"
      ],
      "execution_count": null,
      "outputs": []
    },
    {
      "cell_type": "markdown",
      "metadata": {
        "id": "4x7Pf2FCXyvH"
      },
      "source": [
        "## Cargando los datos usando Numpy\n",
        "\n",
        "Usarémos la función ```loadtxt``` para cargar una versión de MNist que está en nuestra máquina asignada por colab."
      ]
    },
    {
      "cell_type": "code",
      "metadata": {
        "id": "VaqDeMADXyvJ",
        "colab": {
          "base_uri": "https://localhost:8080/"
        },
        "outputId": "19a184b7-9f83-4364-c8d6-d61da83a6f09"
      },
      "source": [
        "MNist = np.loadtxt(\"sample_data/mnist_train_small.csv\", delimiter=',')\n",
        "MNist"
      ],
      "execution_count": null,
      "outputs": [
        {
          "output_type": "execute_result",
          "data": {
            "text/plain": [
              "array([[6., 0., 0., ..., 0., 0., 0.],\n",
              "       [5., 0., 0., ..., 0., 0., 0.],\n",
              "       [7., 0., 0., ..., 0., 0., 0.],\n",
              "       ...,\n",
              "       [2., 0., 0., ..., 0., 0., 0.],\n",
              "       [9., 0., 0., ..., 0., 0., 0.],\n",
              "       [5., 0., 0., ..., 0., 0., 0.]])"
            ]
          },
          "metadata": {
            "tags": []
          },
          "execution_count": 4
        }
      ]
    },
    {
      "cell_type": "markdown",
      "metadata": {
        "id": "MAbbJbJHXyvK"
      },
      "source": [
        "El conjunto de datos MNist en Colab está formado por imágenes de ejemplo. Cada ejemplo en el conjunto es una fila en el arreglo de NumPy.\n",
        "\n",
        "Cada ejemplo (fila) es un arreglo con $785$ elementos, el primer elemento es la etiqueta del dígito (un entero de $0$ a $9$). El resto de los elementos ($784$) son los pixeles de la imágen ($28\\times28 = 784$).\n",
        "\n",
        "---\n",
        "## ¿Cuántos ejemplos (filas) tenemos en el conjunto de datos?\n",
        "\n",
        "Utiliza NumPy para calcular el número de filas en el set de datos, rellena el código para guardar el valor en la variable ```m```."
      ]
    },
    {
      "cell_type": "code",
      "metadata": {
        "id": "IlmxhTkhXyvK",
        "colab": {
          "base_uri": "https://localhost:8080/"
        },
        "outputId": "c157f7ff-3d7a-46de-e14a-5dfcc5bd6763"
      },
      "source": [
        "m = MNist.shape[0]\n",
        "print(\"El set de datos contiene \", m, \" ejemplos.\")"
      ],
      "execution_count": null,
      "outputs": [
        {
          "output_type": "stream",
          "text": [
            "El set de datos contiene  20000  ejemplos.\n"
          ],
          "name": "stdout"
        }
      ]
    },
    {
      "cell_type": "markdown",
      "metadata": {
        "id": "XJKKG-WbXyvL"
      },
      "source": [
        "## Separando los datos.\n",
        "\n",
        "En la siguiente celda, deberás completar el código para separar el conjunto de datos en dos, un conjunto ```X``` que contendrá únicamente los pixeles de las imágenes y un conjunto ```y``` que contendrá las etiquetas asociadas al número que está en la imágen.\n",
        "\n",
        "Utiliza slicing con NumPy para seleccionar los elementos adecuados."
      ]
    },
    {
      "cell_type": "code",
      "metadata": {
        "id": "OiEOubutXyvL",
        "colab": {
          "base_uri": "https://localhost:8080/"
        },
        "outputId": "b3178a73-a0bf-4e27-acc9-e94f0f93db2d"
      },
      "source": [
        "X= MNist[:,1:]\n",
        "y= MNist[:,1]\n",
        "print(np.shape(X),np.shape(y) )"
      ],
      "execution_count": null,
      "outputs": [
        {
          "output_type": "stream",
          "text": [
            "(20000, 784) (20000,)\n"
          ],
          "name": "stdout"
        }
      ]
    },
    {
      "cell_type": "code",
      "metadata": {
        "id": "Ys79wJvZXyvP"
      },
      "source": [
        "Comprueba ejecutando la siguiente celda:\n"
      ],
      "execution_count": null,
      "outputs": []
    },
    {
      "cell_type": "code",
      "metadata": {
        "id": "36QsDX_9XyvR",
        "colab": {
          "base_uri": "https://localhost:8080/"
        },
        "outputId": "3b3f972d-4677-4494-bb59-8e9cc426b26c"
      },
      "source": [
        "assert y.shape == (20000,) and X.shape == (20000, 784), \"Error en las dimensiones de X o y\"\n",
        "print(\"X.shape:\", X.shape)\n",
        "print(\"y.shape:\", y.shape)"
      ],
      "execution_count": null,
      "outputs": [
        {
          "output_type": "stream",
          "text": [
            "X.shape: (20000, 784)\n",
            "y.shape: (20000,)\n"
          ],
          "name": "stdout"
        }
      ]
    },
    {
      "cell_type": "markdown",
      "metadata": {
        "id": "wIyUr_OsXyvR"
      },
      "source": [
        "## Visualizando las imágenes en el set de datos\n",
        "\n",
        "Usemos la función auxiliar display_example para visualizar los ejemplos en el set de datos. Intentar cambiar el valor de ```i``` para mostrar una ejemplo distinto."
      ]
    },
    {
      "cell_type": "code",
      "metadata": {
        "id": "j75RWZfuXyvR",
        "colab": {
          "base_uri": "https://localhost:8080/",
          "height": 286
        },
        "outputId": "be4bd78a-400d-46a9-e157-d0d02891dc06"
      },
      "source": [
        "#puedes cambiar el valor de i\n",
        "i = 4500\n",
        "\n",
        "example = X[i]\n",
        "example_label = y[i]\n",
        "display_example(example)\n",
        "print(\"Imágen con etiqueta: \", example_label)"
      ],
      "execution_count": null,
      "outputs": [
        {
          "output_type": "display_data",
          "data": {
            "image/png": "[encoded data removed]",
            "text/plain": [
              "<Figure size 432x288 with 1 Axes>"
            ]
          },
          "metadata": {
            "tags": [],
            "needs_background": "light"
          }
        },
        {
          "output_type": "stream",
          "text": [
            "Imágen con etiqueta:  0.0\n"
          ],
          "name": "stdout"
        }
      ]
    },
    {
      "cell_type": "markdown",
      "metadata": {
        "id": "7gF5vxz1XyvR"
      },
      "source": [
        "## Contando el número de ejemplos para cada \"clase\"\n",
        "\n",
        "Rellena la función ```count_class_examples()``` para imprimir el número de ejemplos de cada etiqueta en el set de datos. Esto es, el número de ceros, de unos, dos, ..., nueves.\n",
        "\n",
        "Para MNist las etiquetas $y \\in \\{0, 1, 2, \\dots, 9\\}$"
      ]
    },
    {
      "cell_type": "code",
      "metadata": {
        "id": "lRmWNJdmXyvS"
      },
      "source": [
        "def count_class_examples(y):\n",
        "  \"\"\"Imprime el numero de ejemplos para cada clase en y.\n",
        "  \n",
        "  Argumentos\n",
        "  y - arreglos de numpy que contiene etiquetas\n",
        "  \"\"\"\n",
        "  \n",
        "  for i in range(10):\n",
        "    count = (y[:] == i).sum()\n",
        "    print(\"Numero de \", i, count)"
      ],
      "execution_count": null,
      "outputs": []
    },
    {
      "cell_type": "code",
      "metadata": {
        "id": "ylp_wA-_XyvS",
        "colab": {
          "base_uri": "https://localhost:8080/"
        },
        "outputId": "20953540-34f3-4630-f70d-e7825db7b0f6"
      },
      "source": [
        "count_class_examples(y)"
      ],
      "execution_count": null,
      "outputs": [
        {
          "output_type": "stream",
          "text": [
            "Numero de  0 20000\n",
            "Numero de  1 0\n",
            "Numero de  2 0\n",
            "Numero de  3 0\n",
            "Numero de  4 0\n",
            "Numero de  5 0\n",
            "Numero de  6 0\n",
            "Numero de  7 0\n",
            "Numero de  8 0\n",
            "Numero de  9 0\n"
          ],
          "name": "stdout"
        }
      ]
    },
    {
      "cell_type": "markdown",
      "metadata": {
        "id": "vvqw3t3EXyvS"
      },
      "source": [
        "## Calcula el arreglo representativo para cada clase\n",
        "\n",
        "Utiliza Numpy para encontrar el arreglo representativo promediando los arreglos para cada clase. Rellena la función ``` class_means``` para que devuelva un arreglo de NumPy que contenga en cada fila el arreglo promedio de los respectivos ejemplos (del dígito 0 al 9)."
      ]
    },
    {
      "cell_type": "code",
      "metadata": {
        "id": "AYi2l3RXXyvT"
      },
      "source": [
        "def class_means(X, y):\n",
        "  \"\"\"\n",
        "  Calcula el arreglo promedio (representativo) de cada clase\n",
        "  \"\"\"\n",
        "  # Numero de ejemplos (filas)\n",
        "  m = X.shape[0]\n",
        "  # Numero de features (columnas)\n",
        "  n = X.shape[1]\n",
        "  # Clases distintas en el set\n",
        "  ulabels = np.unique(y)\n",
        "  # Numero de clases\n",
        "  classes = ulabels.size\n",
        "\n",
        "  # Rellena means con el arreglo promedio de cada clase\n",
        "  means = np.empty((classes, n))\n",
        "\n",
        "  for i in range(classes):\n",
        "    means[i,:] = # <completa>\n",
        "\n",
        "  return means"
      ],
      "execution_count": null,
      "outputs": []
    },
    {
      "cell_type": "code",
      "metadata": {
        "id": "pMvsQ2pxXyvT"
      },
      "source": [
        "class_representatives = class_means(X, y)\n",
        "\n",
        "#shape del arreglo que contiene los representativos\n",
        "class_representatives.shape"
      ],
      "execution_count": null,
      "outputs": []
    },
    {
      "cell_type": "code",
      "metadata": {
        "id": "lqH0Go_AXyvU"
      },
      "source": [
        "assert np.array_equal(class_means(np.array([[4, 6], [2, 4], [10, 4], [2, 6]]), np.array([1, 2, 1, 2])), np.array([[7, 5], [2, 5]])), \"Error\"\n",
        "assert class_representatives.shape == (10, 784), \"Error en las dimensiones de class_representatives\"\n",
        "print(\"Funcion clas_means es correcta\")"
      ],
      "execution_count": null,
      "outputs": []
    },
    {
      "cell_type": "markdown",
      "metadata": {
        "id": "3Mi_O6gOXyvU"
      },
      "source": [
        "Utiliza la función display_example para mostrar el ejemplo promedio de la clase (para cada clase).\n"
      ]
    },
    {
      "cell_type": "code",
      "metadata": {
        "id": "zJUKT9DtXyvU"
      },
      "source": [
        "for i in range(10):\n",
        "  display_example(class_representatives[i])"
      ],
      "execution_count": null,
      "outputs": []
    },
    {
      "cell_type": "markdown",
      "metadata": {
        "id": "o9cG3WNPXyvV"
      },
      "source": [
        "## Clasificador de dígitos usando distancias\n",
        "\n",
        "En esta sección, generaremos un modelo para identificar dígitos mediante el uso de distancias euclidianas. Calcularemos la distancia entre cada ejemplo en el conjunto y los dígitos representativos de cada clase (el valor promedio de cada clase). Le asignaremos a cada ejemplo la etiqueta del dígito representativo con menor distancia.\n",
        "\n",
        "---\n",
        "\n",
        "### Distancia Euclidiana\n",
        "\n",
        "En la siguiente celda, rellena la función ```euclidean_distance``` para calcular la distancia euclidiana entre los puntos P y Q.\n",
        "\n",
        "La distancia euclidiana entre dos puntos P y Q en un espacio n-dimesional es:\n",
        "\n",
        "$$d_e(P, Q) = \\sqrt{(p_1 - q_1)^2+(p_2-q_2)^2 + \\dots+(p_n-q_n)^2} = \\sqrt{\\sum_{i=1}^{n}(p_i-q_i)^2} $$"
      ]
    },
    {
      "cell_type": "code",
      "metadata": {
        "id": "bpeMHWs4XyvW"
      },
      "source": [
        "def euclidean_distance(P, Q):\n",
        "  \"\"\"\n",
        "  Calcula la distancia euclidiana entre los elementos de P y Q\n",
        "  \"\"\"\n",
        "  e_distance = # <completa>\n",
        "  return e_distance"
      ],
      "execution_count": null,
      "outputs": []
    },
    {
      "cell_type": "code",
      "metadata": {
        "id": "PJTpO36VXyvW"
      },
      "source": [
        "a = np.array([[1, 2, 3]])\n",
        "b = np.array([[3, 3, 5]])\n",
        "euclidean_distance(a, b)"
      ],
      "execution_count": null,
      "outputs": []
    },
    {
      "cell_type": "code",
      "metadata": {
        "id": "hgQHtU-CXyvW"
      },
      "source": [
        "assert euclidean_distance(np.array([[1, 2, 3]]), np.array([[3, 3, 5]]))[0] == 3.0, \"Error en euclidean_distance\""
      ],
      "execution_count": null,
      "outputs": []
    },
    {
      "cell_type": "markdown",
      "metadata": {
        "id": "G8yq0SnvXyvW"
      },
      "source": [
        "## Obten el representante más cercano para cada ejemplo\n",
        "\n",
        "Rellena la función ```closest_point``` para asignar a cada ejemplo la etiqueta del dígito más cercano según su distancia al arreglo representativo.\n"
      ]
    },
    {
      "cell_type": "code",
      "metadata": {
        "id": "EOI5rvHGXyvX"
      },
      "source": [
        "def closest_point(X, representatives):\n",
        "  \"\"\"\n",
        "  Devuelve un arreglo con la etiqueta del elemento mas cercano\n",
        "  para cada ejemplo en X\n",
        "\n",
        "  X -  el arreglo con los ejemplos\n",
        "  representatives - el arreglo con los elementos representativos de cada clase\n",
        "  \"\"\"\n",
        "  # Numero de ejemplos (filas)\n",
        "  m = X.shape[0]\n",
        "  # Numero de features (columnas)\n",
        "  n = X.shape[1]\n",
        "  # Numero de clases\n",
        "  classes = representatives.shape[0]\n",
        "\n",
        "  # Distancias minimas\n",
        "  min_distances = np.full(m, np.inf)\n",
        "  # El indice de la mejor distancia\n",
        "  best = np.zeros((X.shape[0]), dtype=np.int8)\n",
        "\n",
        "  # <rellena>\n",
        "  \n",
        "  return best"
      ],
      "execution_count": null,
      "outputs": []
    },
    {
      "cell_type": "code",
      "metadata": {
        "id": "knKA_EeGXyvX"
      },
      "source": [
        "y_pred = closest_point(X, class_representatives)"
      ],
      "execution_count": null,
      "outputs": []
    },
    {
      "cell_type": "code",
      "metadata": {
        "id": "e_yXu0UrXyvX"
      },
      "source": [
        "assert y_pred.shape == (20000,) or y_pred.shape == (20000), \"Error en las dimensiones de y_pred\""
      ],
      "execution_count": null,
      "outputs": []
    },
    {
      "cell_type": "markdown",
      "metadata": {
        "id": "kAjioVLIXyvX"
      },
      "source": [
        "## Visualiza las predicciones"
      ]
    },
    {
      "cell_type": "code",
      "metadata": {
        "id": "4NPb91hrXyvX"
      },
      "source": [
        "#intenta cambiar el valor de i\n",
        "i = 1\n",
        "\n",
        "example = X[i]\n",
        "pred_label = y_pred[i]\n",
        "true_label = y[i]\n",
        "display_example(example)\n",
        "print(\"Imágen con etiqueta: \", true_label, \" modelo dice:\", pred_label)"
      ],
      "execution_count": null,
      "outputs": []
    },
    {
      "cell_type": "markdown",
      "metadata": {
        "id": "Y7i8PZNAXyvY"
      },
      "source": [
        "## Evaluando el clasificador\n",
        "\n",
        "Una vez que tienes un modelo, debes evaluarlo para saber que tan bien (o mal) está haciendo su trabajo. Para el modelo clasificador de dígitos, usaremos una métrica típica de evaluación.\n",
        "\n",
        "---\n",
        "\n",
        "## Exactitúd (Accuracy)\n",
        "\n",
        "La exactitúd o accuracy mide el rendimiento general del modelo.\n",
        "\n",
        "Utiliza la siguiente fórmula para completar la función ```accuracy``` para medir el rendimiento del modelo de clasificación de dígitos:\n",
        "\n",
        "$$\\texttt{accuracy}(y, \\hat{y}) = \\frac{1}{m} \\sum_{i=0}^{m-1} 1(\\hat{y}_i = y_i)$$\n",
        "\n",
        "$$1(1(\\hat{y}_i = y_i) = 1 \\quad \\text{cuando} \\quad \\hat{y}_i = y_i$$\n",
        "\n",
        "$$1(1(\\hat{y}_i = y_i) = 0 \\quad \\text{cuando} \\quad \\hat{y}_i \\neq y_i$$\n",
        "\n",
        "$$m \\quad \\text{es el número de ejemplos}$$"
      ]
    },
    {
      "cell_type": "code",
      "metadata": {
        "id": "t7coO_T9XyvY"
      },
      "source": [
        "def accuracy(y, y_pred):\n",
        "  \"\"\"\n",
        "  Devuelve la exactitud dados dos vectores \"y\" con la verdad\n",
        "  y \"y_pred\" con las predicciones\n",
        "  \"\"\"\n",
        "  acc = # <completa>\n",
        "  return acc"
      ],
      "execution_count": null,
      "outputs": []
    },
    {
      "cell_type": "code",
      "metadata": {
        "id": "igVeFdcaXyvY"
      },
      "source": [
        "accuracy(y, y_pred)"
      ],
      "execution_count": null,
      "outputs": []
    },
    {
      "cell_type": "markdown",
      "metadata": {
        "id": "ZwmzoLoLXyvY"
      },
      "source": [
        "¿Consideras que el modelo es bueno para predecir dígitos escritos a mano?, ¿crees que hay margen de mejora?"
      ]
    }
  ]
}